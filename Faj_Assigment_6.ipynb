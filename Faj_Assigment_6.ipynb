{
  "nbformat": 4,
  "nbformat_minor": 0,
  "metadata": {
    "colab": {
      "provenance": [],
      "authorship_tag": "ABX9TyPzWI9PrmsFZ+Cbr5poh94T",
      "include_colab_link": true
    },
    "kernelspec": {
      "name": "python3",
      "display_name": "Python 3"
    },
    "language_info": {
      "name": "python"
    }
  },
  "cells": [
    {
      "cell_type": "markdown",
      "metadata": {
        "id": "view-in-github",
        "colab_type": "text"
      },
      "source": [
        "<a href=\"https://colab.research.google.com/github/fajshah/Faj-assigment-06/blob/main/Faj_Assigment_6.ipynb\" target=\"_parent\"><img src=\"https://colab.research.google.com/assets/colab-badge.svg\" alt=\"Open In Colab\"/></a>"
      ]
    },
    {
      "cell_type": "code",
      "execution_count": null,
      "metadata": {
        "id": "iWYn5Tb-uBuv"
      },
      "outputs": [],
      "source": []
    },
    {
      "cell_type": "markdown",
      "source": [],
      "metadata": {
        "id": "kbv1gUdbzh7g"
      }
    },
    {
      "cell_type": "markdown",
      "source": [
        "**1. Using self**\n",
        "Assignment:\n",
        "Create a class Student with attributes name and marks. Use the self keyword to initialize these values via a constructor. Add a method display() that prints student details.\n",
        "\n"
      ],
      "metadata": {
        "id": "epgVpqgsuoXE"
      }
    },
    {
      "cell_type": "code",
      "source": [
        "class Student:\n",
        "    def __init__(self, name, marks):\n",
        "        self.name = name       # Initialize name using self\n",
        "        self.marks = marks     # Initialize marks using self\n",
        "\n",
        "    def display(self):\n",
        "        print(\"Student Name:\", self.name)\n",
        "        print(\"Marks:\", self.marks)\n",
        "\n",
        "# Example usage:\n",
        "student1 = Student(\"Faj\", 88)\n",
        "student1.display()\n"
      ],
      "metadata": {
        "colab": {
          "base_uri": "https://localhost:8080/"
        },
        "id": "7sfs2A7UzuqJ",
        "outputId": "d458f26a-fd11-4e15-b0a0-aa16b5f3bbb6"
      },
      "execution_count": null,
      "outputs": [
        {
          "output_type": "stream",
          "name": "stdout",
          "text": [
            "Student Name: Faj\n",
            "Marks: 88\n"
          ]
        }
      ]
    },
    {
      "cell_type": "markdown",
      "source": [
        "***2. Using cls**\n",
        "Assignment:\n",
        "Create a class Counter that keeps track of how many objects have been created. Use a class variable and a class method with cls to manage and display the count."
      ],
      "metadata": {
        "id": "xeSemsgT1Ph3"
      }
    },
    {
      "cell_type": "code",
      "source": [
        "class Counter:\n",
        "    # Class variable to keep track of object count\n",
        "    count = 0\n",
        "\n",
        "    def __init__(self):\n",
        "        # Increment count whenever a new object is created\n",
        "        Counter.count += 1\n",
        "\n",
        "    @classmethod\n",
        "    def display_count(cls):\n",
        "        print(f\"Total objects created: {cls.count}\")\n",
        "\n",
        "# Example usage:\n",
        "obj1 = Counter()\n",
        "obj2 = Counter()\n",
        "obj3 = Counter()\n",
        "obj4 = Counter()\n",
        "# Display count using class method\n",
        "Counter.display_count()\n"
      ],
      "metadata": {
        "colab": {
          "base_uri": "https://localhost:8080/"
        },
        "id": "mCYmonZO1m-1",
        "outputId": "8fdd2358-74f0-47f6-f516-111b72dad6c6"
      },
      "execution_count": null,
      "outputs": [
        {
          "output_type": "stream",
          "name": "stdout",
          "text": [
            "Total objects created: 4\n"
          ]
        }
      ]
    },
    {
      "cell_type": "markdown",
      "source": [
        "***3. Public Variables and Methods***\n",
        "Assignment:\n",
        "Create a class Car with a public variable brand and a public method start(). Instantiate the class and access both from outside the class.\n",
        "\n"
      ],
      "metadata": {
        "id": "TgXVNyJr17jO"
      }
    },
    {
      "cell_type": "code",
      "source": [
        "class Car:\n",
        "    def __init__(self, brand):\n",
        "        self.brand = brand  # public variable\n",
        "\n",
        "    def start(self):\n",
        "        print(f\"{self.brand} car has started.\")  # public method\n",
        "\n",
        "# Instantiate the class\n",
        "my_car = Car(\"Honda\")\n",
        "\n",
        "# Access public variable and method from outside the class\n",
        "print(\"Car Brand:\", my_car.brand)\n",
        "my_car.start()\n"
      ],
      "metadata": {
        "colab": {
          "base_uri": "https://localhost:8080/"
        },
        "id": "lip8NpSe2IfM",
        "outputId": "3b1afea8-d3c1-4f25-9a85-e97cb536a0ba"
      },
      "execution_count": null,
      "outputs": [
        {
          "output_type": "stream",
          "name": "stdout",
          "text": [
            "Car Brand: Honda\n",
            "Honda car has started.\n"
          ]
        }
      ]
    },
    {
      "cell_type": "markdown",
      "source": [
        "***4. Class Variables and Class Methods***\n",
        "Assignment:\n",
        "Create a class Bank with a class variable bank_name. Add a class method change_bank_name(cls, name) that allows changing the bank name. Show that it affects all instances."
      ],
      "metadata": {
        "id": "fgX7jovh6hp8"
      }
    },
    {
      "cell_type": "code",
      "source": [
        "class Bank:\n",
        "    # Class variable shared by all instances\n",
        "    bank_name = \"Trust Bank\"\n",
        "\n",
        "    def __init__(self, customer_name):\n",
        "        self.customer_name = customer_name\n",
        "\n",
        "    @classmethod\n",
        "    def change_bank_name(cls, name):\n",
        "        cls.bank_name = name\n",
        "\n",
        "    def show_details(self):\n",
        "        print(f\"Customer: {self.customer_name}, Bank: {Bank.bank_name}\")\n",
        "\n",
        "# Create multiple instances\n",
        "cust1 = Bank(\"Faj\")\n",
        "cust2 = Bank(\"Maida\")\n",
        "\n",
        "# Show initial details\n",
        "print(\"Before changing bank name:\")\n",
        "cust1.show_details()\n",
        "cust2.show_details()\n",
        "\n",
        "# Change the bank name using class method\n",
        "Bank.change_bank_name(\"Secure meezan Bank\")\n",
        "\n",
        "# Show details after bank name change\n",
        "print(\"\\nAfter changing bank name:\")\n",
        "cust1.show_details()\n",
        "cust2.show_details()\n"
      ],
      "metadata": {
        "colab": {
          "base_uri": "https://localhost:8080/"
        },
        "id": "x2hm5dTj6xn5",
        "outputId": "002b1974-0c52-4bed-ab69-3fada80f297c"
      },
      "execution_count": null,
      "outputs": [
        {
          "output_type": "stream",
          "name": "stdout",
          "text": [
            "Before changing bank name:\n",
            "Customer: Faj, Bank: Trust Bank\n",
            "Customer: Maida, Bank: Trust Bank\n",
            "\n",
            "After changing bank name:\n",
            "Customer: Faj, Bank: Secure meezan Bank\n",
            "Customer: Maida, Bank: Secure meezan Bank\n"
          ]
        }
      ]
    },
    {
      "cell_type": "markdown",
      "source": [
        "***5. Static Variables and Static Methods***\n",
        "Assignment:\n",
        "Create a class MathUtils with a static method add(a, b) that returns the sum. No class or instance variables should be used.\n",
        "\n"
      ],
      "metadata": {
        "id": "Ineg3TTU-Ffm"
      }
    },
    {
      "cell_type": "code",
      "source": [
        "class MathUtils:\n",
        "    @staticmethod\n",
        "    def add(a, b):\n",
        "        return a + b\n",
        "\n",
        "# Example usage:\n",
        "result = MathUtils.add(10, 15)\n",
        "print(\"Sum:\", result)\n"
      ],
      "metadata": {
        "colab": {
          "base_uri": "https://localhost:8080/"
        },
        "id": "PfZtHpS1-XYG",
        "outputId": "dfdbe0da-4892-4346-b0f5-dc603e9daba0"
      },
      "execution_count": null,
      "outputs": [
        {
          "output_type": "stream",
          "name": "stdout",
          "text": [
            "Sum: 25\n"
          ]
        }
      ]
    },
    {
      "cell_type": "markdown",
      "source": [
        "***6. Constructors and Destructors***\n",
        "Assignment:\n",
        "Create a class Logger that prints a message when an object is created (constructor) and another message when it is destroyed (destructor).\n",
        "\n"
      ],
      "metadata": {
        "id": "_7HnvTaD-4H1"
      }
    },
    {
      "cell_type": "code",
      "source": [
        "class Logger:\n",
        "    def __init__(self):\n",
        "        print(\"Logger object created.\")\n",
        "\n",
        "    def __del__(self):\n",
        "        print(\"Logger object destroyed.\")\n",
        "\n",
        "# Example usage:\n",
        "print(\"Creating logger...\")\n",
        "log = Logger()\n",
        "\n",
        "print(\"Doing something with logger...\")\n",
        "\n",
        "# Manually deleting the object to trigger destructor\n",
        "del log\n",
        "\n",
        "print(\"End of program.\")\n"
      ],
      "metadata": {
        "colab": {
          "base_uri": "https://localhost:8080/"
        },
        "id": "ULLCx9Dn_MbZ",
        "outputId": "98f5ab3d-643e-42c4-8449-97a50bbb2092"
      },
      "execution_count": null,
      "outputs": [
        {
          "output_type": "stream",
          "name": "stdout",
          "text": [
            "Creating logger...\n",
            "Logger object created.\n",
            "Doing something with logger...\n",
            "Logger object destroyed.\n",
            "End of program.\n"
          ]
        }
      ]
    },
    {
      "cell_type": "markdown",
      "source": [
        "**7. Access Modifiers: Public, Private, and Protected**\n",
        "Assignment:\n",
        "Create a class Employee with:\n",
        "\n",
        "a public variable name,\n",
        "\n",
        "a protected variable _salary, and\n",
        "\n",
        "a private variable __ssn.\n",
        "\n",
        "Try accessing all three variables from an object of the class and document what happens."
      ],
      "metadata": {
        "id": "qUozUxl6CrlR"
      }
    },
    {
      "cell_type": "code",
      "source": [
        "class Employee:\n",
        "    def __init__(self, name, salary, ssn):\n",
        "        self.name = name        # public\n",
        "        self._salary = salary   # protected (by convention)\n",
        "        self.__ssn = ssn        # private (name mangled)\n",
        "\n",
        "# Create an instance\n",
        "emp = Employee(\"Faj\", 50000, \"123-45-6789\")\n",
        "\n",
        "# Accessing public variable (✓ allowed)\n",
        "print(\"Public (name):\", emp.name)\n",
        "\n",
        "# Accessing protected variable (✓ allowed but discouraged by convention)\n",
        "print(\"Protected (_salary):\", emp._salary)\n",
        "\n",
        "# Accessing private variable directly (✗ not allowed - will raise AttributeError)\n",
        "try:\n",
        "    print(\"Private (__ssn):\", emp.__ssn)\n",
        "except AttributeError as e:\n",
        "    print(\"Private (__ssn): Cannot access directly -\", e)\n",
        "\n",
        "# Accessing private variable using name mangling (✓ possible but not recommended)\n",
        "print(\"Private (__ssn via name mangling):\", emp._Employee__ssn)\n"
      ],
      "metadata": {
        "colab": {
          "base_uri": "https://localhost:8080/"
        },
        "id": "2YvhRIzEC8nj",
        "outputId": "0b058801-e02e-486d-9b4b-b07cfc5b9c1f"
      },
      "execution_count": null,
      "outputs": [
        {
          "output_type": "stream",
          "name": "stdout",
          "text": [
            "Public (name): Faj\n",
            "Protected (_salary): 50000\n",
            "Private (__ssn): Cannot access directly - 'Employee' object has no attribute '__ssn'\n",
            "Private (__ssn via name mangling): 123-45-6789\n"
          ]
        }
      ]
    },
    {
      "cell_type": "markdown",
      "source": [
        "**8. The super() Function**\n",
        "Assignment:\n",
        "Create a class Person with a constructor that sets the name. Inherit a class Teacher from it, add a subject field, and use super() to call the base class constructor.\n",
        "\n"
      ],
      "metadata": {
        "id": "yDldlII-EVeP"
      }
    },
    {
      "cell_type": "code",
      "source": [
        "# Base class\n",
        "class Person:\n",
        "    def __init__(self, name):\n",
        "        self.name = name\n",
        "\n",
        "# Derived class\n",
        "class Teacher(Person):\n",
        "    def __init__(self, name, subject):\n",
        "        super().__init__(name)  # Call base class constructor\n",
        "        self.subject = subject\n",
        "\n",
        "    def display(self):\n",
        "        print(f\"Name: {self.name}\")\n",
        "        print(f\"Subject: {self.subject}\")\n",
        "\n",
        "# Example usage\n",
        "teacher1 = Teacher(\"Faj\", \"Mathematics\")\n",
        "teacher1.display()\n"
      ],
      "metadata": {
        "colab": {
          "base_uri": "https://localhost:8080/"
        },
        "id": "WWoy5qUGFzMW",
        "outputId": "99ede238-5ead-49e8-8791-2f61cf80fefc"
      },
      "execution_count": null,
      "outputs": [
        {
          "output_type": "stream",
          "name": "stdout",
          "text": [
            "Name: Faj\n",
            "Subject: Mathematics\n"
          ]
        }
      ]
    },
    {
      "cell_type": "markdown",
      "source": [
        "***9. Abstract Classes and Methods***\n",
        "Assignment:\n",
        "Use the abc module to create an abstract class Shape with an abstract method area(). Inherit a class Rectangle that implements area()."
      ],
      "metadata": {
        "id": "Zfdjwt9gGS7I"
      }
    },
    {
      "cell_type": "code",
      "source": [
        "from abc import ABC, abstractmethod\n",
        "\n",
        "# Abstract base class\n",
        "class Shape(ABC):\n",
        "    @abstractmethod\n",
        "    def area(self):\n",
        "        pass  # Must be implemented by subclasses\n",
        "\n",
        "# Subclass implementing the abstract method\n",
        "class Rectangle(Shape):\n",
        "    def __init__(self, width, height):\n",
        "        self.width = width\n",
        "        self.height = height\n",
        "\n",
        "    def area(self):\n",
        "        return self.width * self.height\n",
        "\n",
        "# Example usage\n",
        "rect = Rectangle(5, 10)\n",
        "print(\"Area of Rectangle:\", rect.area())\n"
      ],
      "metadata": {
        "colab": {
          "base_uri": "https://localhost:8080/"
        },
        "id": "q6O_EYX9Ggl1",
        "outputId": "68f996e4-ade5-4e14-c57a-6f1b938416b2"
      },
      "execution_count": null,
      "outputs": [
        {
          "output_type": "stream",
          "name": "stdout",
          "text": [
            "Area of Rectangle: 50\n"
          ]
        }
      ]
    },
    {
      "cell_type": "markdown",
      "source": [
        "***10. Instance Methods***\n",
        "Assignment:\n",
        "Create a class Dog with instance variables name and breed. Add an instance method bark() that prints a message including the dog's name."
      ],
      "metadata": {
        "id": "m_fNoySnHUvu"
      }
    },
    {
      "cell_type": "code",
      "source": [
        "class Dog:\n",
        "    def __init__(self, name, breed):\n",
        "        self.name = name        # Instance variable for name\n",
        "        self.breed = breed      # Instance variable for breed\n",
        "\n",
        "    def bark(self):\n",
        "        print(f\"{self.name} says: Woof woof!\")\n",
        "\n",
        "# Example usage\n",
        "dog1 = Dog(\"Scooby\", \"Golden Retriever\")\n",
        "dog1.bark()\n"
      ],
      "metadata": {
        "colab": {
          "base_uri": "https://localhost:8080/"
        },
        "id": "hy0jMbuxIKVc",
        "outputId": "19d5ed07-02f2-4427-f78b-b7ae12589403"
      },
      "execution_count": null,
      "outputs": [
        {
          "output_type": "stream",
          "name": "stdout",
          "text": [
            "Scooby says: Woof woof!\n"
          ]
        }
      ]
    },
    {
      "cell_type": "markdown",
      "source": [
        "***11. Class Methods***\n",
        "Assignment:\n",
        "Create a class Book with a class variable total_books. Add a class method increment_book_count() to increase the count when a new book is added."
      ],
      "metadata": {
        "id": "SsU173peI0qA"
      }
    },
    {
      "cell_type": "code",
      "source": [
        "class Book:\n",
        "    total_books = 0  # Class variable to track total books\n",
        "\n",
        "    def __init__(self, title):\n",
        "        self.title = title\n",
        "        Book.increment_book_count()  # Increment count when a book is created\n",
        "\n",
        "    @classmethod\n",
        "    def increment_book_count(cls):\n",
        "        cls.total_books += 1\n",
        "\n",
        "    @classmethod\n",
        "    def show_total_books(cls):\n",
        "        print(f\"Total books: {cls.total_books}\")\n",
        "\n",
        "# Example usage\n",
        "book1 = Book(\"The Alchemist\")\n",
        "book2 = Book(\"1984\")\n",
        "book3 = Book(\"To Kill a Mockingbird\")\n",
        "\n",
        "Book.show_total_books()\n"
      ],
      "metadata": {
        "colab": {
          "base_uri": "https://localhost:8080/"
        },
        "id": "2ziSqVcqJSuq",
        "outputId": "5cd6bc8f-69b9-42ff-cd29-968b99311152"
      },
      "execution_count": null,
      "outputs": [
        {
          "output_type": "stream",
          "name": "stdout",
          "text": [
            "Total books: 3\n"
          ]
        }
      ]
    },
    {
      "cell_type": "markdown",
      "source": [
        "***12. Static Methods***\n",
        "Assignment:\n",
        "Create a class TemperatureConverter with a static method celsius_to_fahrenheit(c) that returns the Fahrenheit value."
      ],
      "metadata": {
        "id": "paGzveA9KUrV"
      }
    },
    {
      "cell_type": "code",
      "source": [
        "class TemperatureConverter:\n",
        "    @staticmethod\n",
        "    def celsius_to_fahrenheit(c):\n",
        "        return (c * 9/5) + 32\n",
        "\n",
        "# Example usage\n",
        "celsius = 35\n",
        "fahrenheit = TemperatureConverter.celsius_to_fahrenheit(celsius)\n",
        "print(f\"{celsius}°C = {fahrenheit}°F\")\n"
      ],
      "metadata": {
        "colab": {
          "base_uri": "https://localhost:8080/"
        },
        "id": "lxy6rmA0Kocp",
        "outputId": "0c46594d-c5bb-43ca-86c6-7f15c6e41688"
      },
      "execution_count": null,
      "outputs": [
        {
          "output_type": "stream",
          "name": "stdout",
          "text": [
            "35°C = 95.0°F\n"
          ]
        }
      ]
    },
    {
      "cell_type": "markdown",
      "source": [
        "***13. Composition***\n",
        "Assignment:\n",
        "Create a class Engine and a class Car. Use composition by passing an Engine object to the Car class during initialization. Access a method of the Engine class via the Car class."
      ],
      "metadata": {
        "id": "zp_cc38nLkBD"
      }
    },
    {
      "cell_type": "code",
      "source": [
        "class Engine:\n",
        "    def __init__(self, engine_type):\n",
        "        self.engine_type = engine_type\n",
        "\n",
        "    def start(self):\n",
        "        print(f\"{self.engine_type} engine started.\")\n",
        "\n",
        "class Car:\n",
        "    def __init__(self, brand, model):\n",
        "        self.brand = brand\n",
        "        self.model = model\n",
        "        self.engine = Engine(\"D4D\")  # Har car ke sath ek engine\n",
        "\n",
        "    def start_car(self):\n",
        "        print(f\"Starting {self.brand} {self.model}...\")\n",
        "        self.engine.start()\n",
        "\n",
        "# Example usage\n",
        "my_car = Car(\"Toyota\", \"Fortuner\")\n",
        "my_car.start_car()\n"
      ],
      "metadata": {
        "colab": {
          "base_uri": "https://localhost:8080/"
        },
        "id": "1B1MBEC7MF67",
        "outputId": "5c3aa6c1-d738-4ed3-c194-98d0b142a666"
      },
      "execution_count": null,
      "outputs": [
        {
          "output_type": "stream",
          "name": "stdout",
          "text": [
            "Starting Toyota Fortuner...\n",
            "D4D engine started.\n"
          ]
        }
      ]
    },
    {
      "cell_type": "markdown",
      "source": [
        "***14. Aggregation***\n",
        "Assignment:\n",
        "Create a class Department and a class Employee. Use aggregation by having a Department object store a reference to an Employee object that exists independently of it."
      ],
      "metadata": {
        "id": "qooC4IrtLi6T"
      }
    },
    {
      "cell_type": "code",
      "source": [
        "# Employee class\n",
        "class Employee:\n",
        "    def __init__(self, name, emp_id):\n",
        "        self.name = name\n",
        "        self.emp_id = emp_id\n",
        "\n",
        "    def show_details(self):\n",
        "        print(f\"Employee Name: {self.name}, ID: {self.emp_id}\")\n",
        "\n",
        "# Department class using aggregation\n",
        "class Department:\n",
        "    def __init__(self, dept_name, employee):\n",
        "        self.dept_name = dept_name\n",
        "        self.employee = employee  # Reference to an existing Employee object\n",
        "\n",
        "    def show_department(self):\n",
        "        print(f\"Department: {self.dept_name}\")\n",
        "        self.employee.show_details()  # Access employee's method\n",
        "\n",
        "# Example usage\n",
        "emp1 = Employee(\"Faj\", 105)  # Employee created independently\n",
        "dept1 = Department(\"HR\", emp1)  # Aggregation: Department refers to existing Employee\n",
        "\n",
        "dept1.show_department()\n"
      ],
      "metadata": {
        "colab": {
          "base_uri": "https://localhost:8080/"
        },
        "id": "0RRBEOSNM5PC",
        "outputId": "2f373f03-b657-4aa7-c826-f09897562efa"
      },
      "execution_count": null,
      "outputs": [
        {
          "output_type": "stream",
          "name": "stdout",
          "text": [
            "Department: HR\n",
            "Employee Name: Faj, ID: 105\n"
          ]
        }
      ]
    },
    {
      "cell_type": "markdown",
      "source": [
        "***15. Method Resolution Order (MRO) and Diamond Inheritance***\n",
        "Assignment:\n",
        "Create four classes:\n",
        "\n",
        "A with a method show(),\n",
        "\n",
        "B and C that inherit from A and override show(),\n",
        "\n",
        "D that inherits from both B and C.\n",
        "\n",
        "Create an object of D and call show() to observe MRO."
      ],
      "metadata": {
        "id": "umWDWDOQF-hj"
      }
    },
    {
      "cell_type": "code",
      "source": [
        "class A:\n",
        "    def show(self):\n",
        "        print(\"A's show() method\")\n",
        "\n",
        "class B(A):\n",
        "    def show(self):\n",
        "        print(\"B's show() method\")\n",
        "\n",
        "class C(A):\n",
        "    def show(self):\n",
        "        print(\"C's show() method\")\n",
        "\n",
        "class D(B, C):  # Inherits from B and C\n",
        "    pass\n",
        "\n",
        "# Create object of D and call show()\n",
        "d = D()\n",
        "d.show()\n",
        "\n",
        "# Print the MRO\n",
        "print(D.__mro__)\n"
      ],
      "metadata": {
        "colab": {
          "base_uri": "https://localhost:8080/"
        },
        "id": "yb5KZgeXGLTN",
        "outputId": "697dfe67-947a-4fe6-fa22-f7e69409221e"
      },
      "execution_count": null,
      "outputs": [
        {
          "output_type": "stream",
          "name": "stdout",
          "text": [
            "B's show() method\n",
            "(<class '__main__.D'>, <class '__main__.B'>, <class '__main__.C'>, <class '__main__.A'>, <class 'object'>)\n"
          ]
        }
      ]
    },
    {
      "cell_type": "markdown",
      "source": [
        "***16. Function Decorators***\n",
        "Assignment:\n",
        "Write a decorator function log_function_call that prints \"Function is being called\" before a function executes. Apply it to a function say_hello()."
      ],
      "metadata": {
        "id": "Nsf7RXITNoZL"
      }
    },
    {
      "cell_type": "code",
      "source": [
        "# Decorator function\n",
        "def log_function_call(func):\n",
        "    def wrapper(*args, **kwargs):\n",
        "        print(\"Function is being called\")\n",
        "        return func(*args, **kwargs)\n",
        "    return wrapper\n",
        "\n",
        "# Apply decorator to say_hello()\n",
        "@log_function_call\n",
        "def say_hello():\n",
        "    print(\"Hello world.Faj is here!\")\n",
        "\n",
        "# Call the function\n",
        "say_hello()\n"
      ],
      "metadata": {
        "colab": {
          "base_uri": "https://localhost:8080/"
        },
        "id": "xyHJ_eTTN5eS",
        "outputId": "6699c95a-a73c-4345-d8b5-cd6221050b70"
      },
      "execution_count": null,
      "outputs": [
        {
          "output_type": "stream",
          "name": "stdout",
          "text": [
            "Function is being called\n",
            "Hello world.Faj is here!\n"
          ]
        }
      ]
    },
    {
      "cell_type": "markdown",
      "source": [
        "***17. Class Decorators***\n",
        "Assignment:\n",
        "Create a class decorator add_greeting that modifies a class to add a greet() method returning \"Hello from Decorator!\". Apply it to a class Person."
      ],
      "metadata": {
        "id": "piFL5bHxPBUU"
      }
    },
    {
      "cell_type": "code",
      "source": [
        "# Class decorator\n",
        "def add_greeting(cls):\n",
        "    def greet(self):\n",
        "        return \"Hello from Decorator!\"\n",
        "    cls.greet = greet\n",
        "    return cls\n",
        "\n",
        "# Apply decorator to the class\n",
        "@add_greeting\n",
        "class Person:\n",
        "    def __init__(self, name):\n",
        "        self.name = name\n",
        "\n",
        "# Example usage\n",
        "p = Person(\"Shah\")\n",
        "print(p.greet())\n"
      ],
      "metadata": {
        "colab": {
          "base_uri": "https://localhost:8080/"
        },
        "id": "_BGxo2sDPLhb",
        "outputId": "eb515a67-04ae-4858-bb8a-d9a57c4cabdd"
      },
      "execution_count": null,
      "outputs": [
        {
          "output_type": "stream",
          "name": "stdout",
          "text": [
            "Hello from Decorator!\n"
          ]
        }
      ]
    },
    {
      "cell_type": "markdown",
      "source": [
        "***18. Property Decorators: @property, @setter, and @deleter***\n",
        "Assignment:\n",
        "Create a class Product with a private attribute _price. Use @property to get the price, @price.setter to update it, and @price.deleter to delete it."
      ],
      "metadata": {
        "id": "l4KC2lomPqAB"
      }
    },
    {
      "cell_type": "code",
      "source": [
        "class Product:\n",
        "    def __init__(self, name, price):\n",
        "        self._name = name\n",
        "        self._price = price\n",
        "\n",
        "    # Getter method for name\n",
        "    @property\n",
        "    def name(self):\n",
        "        return self._name\n",
        "\n",
        "    # Setter method for name\n",
        "    @name.setter\n",
        "    def name(self, value):\n",
        "        self._name = value\n",
        "\n",
        "    # Getter method for price\n",
        "    @property\n",
        "    def price(self):\n",
        "        return self._price\n",
        "\n",
        "    # Setter method for price\n",
        "    @price.setter\n",
        "    def price(self, value):\n",
        "        if value < 0:\n",
        "            raise ValueError(\"Price cannot be negative.\")\n",
        "        self._price = value\n",
        "\n",
        "    # Deleter method for price\n",
        "    @price.deleter\n",
        "    def price(self):\n",
        "        print(\"Deleting price...\")\n",
        "        del self._price\n",
        "\n",
        "# Example usage:\n",
        "product = Product(\"Laptop\", 100000)\n",
        "print(f\"Product Name: {product.name}, Price: {product.price}\")  # Getting the name and price\n",
        "\n",
        "product.name = \"Smartphone\"  # Setting the product name\n",
        "product.price = 20000          # Setting the price\n",
        "print(f\"Updated Product: {product.name}, Price: {product.price}\")\n",
        "\n",
        "del product.price  # Deleting the price\n"
      ],
      "metadata": {
        "colab": {
          "base_uri": "https://localhost:8080/"
        },
        "id": "Te43OH5BP84Y",
        "outputId": "7dd2bdb7-980c-42fe-acc8-f9a892c440e6"
      },
      "execution_count": 19,
      "outputs": [
        {
          "output_type": "stream",
          "name": "stdout",
          "text": [
            "Product Name: Laptop, Price: 100000\n",
            "Updated Product: Smartphone, Price: 20000\n",
            "Deleting price...\n"
          ]
        }
      ]
    },
    {
      "cell_type": "markdown",
      "source": [
        "***19. callable() and __call__()***\n",
        "Assignment:\n",
        "Create a class Multiplier with an __init__() to set a factor. Define a __call__() method that multiplies an input by the factor. Test it with callable() and by calling the object like a function."
      ],
      "metadata": {
        "id": "BuC0d1r8cxLc"
      }
    },
    {
      "cell_type": "code",
      "source": [
        "class Multiplier:\n",
        "    def __init__(self, factor):\n",
        "        self.factor = factor\n",
        "\n",
        "    def __call__(self, value):\n",
        "        return value * self.factor\n",
        "\n",
        "# Example usage:\n",
        "m = Multiplier(5)\n",
        "\n",
        "# Test if the object is callable\n",
        "print(callable(m))  # Output: True\n",
        "\n",
        "# Call the object like a function\n",
        "result = m(10)\n",
        "print(f\"10 multiplied by factor 5 is: {result}\")  # Output: 50\n"
      ],
      "metadata": {
        "colab": {
          "base_uri": "https://localhost:8080/"
        },
        "id": "zDi8tDH01rL8",
        "outputId": "7a4d51d2-3996-42eb-c2cd-661beb62a936"
      },
      "execution_count": 1,
      "outputs": [
        {
          "output_type": "stream",
          "name": "stdout",
          "text": [
            "True\n",
            "10 multiplied by factor 5 is: 50\n"
          ]
        }
      ]
    },
    {
      "cell_type": "markdown",
      "source": [
        "***20. Creating a Custom Exception***\n",
        "Assignment:\n",
        "Create a custom exception InvalidAgeError. Write a function check_age(age) that raises this exception if age < 18. Handle it with try...except.\n",
        "\n"
      ],
      "metadata": {
        "id": "P6_v3Wsc2c_H"
      }
    },
    {
      "cell_type": "code",
      "source": [
        "# Custom exception class\n",
        "class InvalidAgeError(Exception):\n",
        "    def __init__(self, message=\"Age must be 18 or above.\"):\n",
        "        super().__init__(message)\n",
        "\n",
        "# Function to check age\n",
        "def check_age(age):\n",
        "    if age < 18:\n",
        "        raise InvalidAgeError(f\"Invalid age: {age}. You must be at least 18 years old.\")\n",
        "    print(\"Age is valid. Access granted.\")\n",
        "\n",
        "# Example usage\n",
        "try:\n",
        "    user_age = int(input(\"Enter your age: \"))\n",
        "    check_age(user_age)\n",
        "except InvalidAgeError as e:\n",
        "    print(\"Error:\", e)\n"
      ],
      "metadata": {
        "colab": {
          "base_uri": "https://localhost:8080/"
        },
        "id": "XhKcIYby2pN8",
        "outputId": "e0cd5487-f620-4488-e5b0-259a63ed3e51"
      },
      "execution_count": 4,
      "outputs": [
        {
          "output_type": "stream",
          "name": "stdout",
          "text": [
            "Enter your age: 25\n",
            "Age is valid. Access granted.\n"
          ]
        }
      ]
    },
    {
      "cell_type": "markdown",
      "source": [
        "***21. Make a Custom Class Iterable***\n",
        "Assignment:\n",
        "Create a class Countdown that takes a start number. Implement __iter__() and __next__() to make the object iterable in a for-loop, counting down to 0."
      ],
      "metadata": {
        "id": "SmwU6E203DdW"
      }
    },
    {
      "cell_type": "code",
      "source": [
        "class Countdown:\n",
        "    def __init__(self, start):\n",
        "        self.current = start\n",
        "\n",
        "    def __iter__(self):\n",
        "        return self  # The object itself is the iterator\n",
        "\n",
        "    def __next__(self):\n",
        "        if self.current < 0:\n",
        "            raise StopIteration  # Stop when countdown is below 0\n",
        "        value = self.current\n",
        "        self.current -= 1\n",
        "        return value\n",
        "\n",
        "# Example usage:\n",
        "for number in Countdown(10):\n",
        "    print(number)\n"
      ],
      "metadata": {
        "colab": {
          "base_uri": "https://localhost:8080/"
        },
        "id": "wryTMwVf3T3a",
        "outputId": "631fb11c-dec6-4559-e38e-da28c80fc396"
      },
      "execution_count": 6,
      "outputs": [
        {
          "output_type": "stream",
          "name": "stdout",
          "text": [
            "10\n",
            "9\n",
            "8\n",
            "7\n",
            "6\n",
            "5\n",
            "4\n",
            "3\n",
            "2\n",
            "1\n",
            "0\n"
          ]
        }
      ]
    },
    {
      "cell_type": "markdown",
      "source": [
        "***THE END***\n"
      ],
      "metadata": {
        "id": "z_TGprUB4bkS"
      }
    }
  ]
}